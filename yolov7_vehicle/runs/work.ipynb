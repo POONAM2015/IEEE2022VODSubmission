{
 "cells": [
  {
   "cell_type": "markdown",
   "metadata": {},
   "source": [
    "# Change working directory"
   ]
  },
  {
   "cell_type": "code",
   "execution_count": null,
   "metadata": {},
   "outputs": [],
   "source": [
    "cd /usr/src/app/yolov7"
   ]
  },
  {
   "cell_type": "code",
   "execution_count": null,
   "metadata": {},
   "outputs": [],
   "source": [
    "!pwd"
   ]
  },
  {
   "cell_type": "markdown",
   "metadata": {},
   "source": [
    "# Import libraries"
   ]
  },
  {
   "cell_type": "code",
   "execution_count": null,
   "metadata": {},
   "outputs": [],
   "source": [
    "import os, multiprocessing"
   ]
  },
  {
   "cell_type": "markdown",
   "metadata": {},
   "source": [
    "# Training of model\n"
   ]
  },
  {
   "cell_type": "markdown",
   "metadata": {},
   "source": [
    "- Change of learing rate: \n",
    "    - Edit `data/hyp.scratch.p6.yaml`\n",
    "    - Change lr0 to 0.001\n",
    "- Go to `train_aux.py` (line no 527). Change default value of --hyp to 'data/hyp.scratch.p6.yaml'"
   ]
  },
  {
   "cell_type": "code",
   "execution_count": null,
   "metadata": {},
   "outputs": [],
   "source": [
    "weight = 'yolov7-w6_training.pt'\n",
    "data = '../../mydataset/cfg_folders/cfg_combined_bal/combined_bal.yaml'\n",
    "\n",
    "imgs = 1280\n",
    "bs = 8\n",
    "epoch = 18\n",
    "\n",
    "name = f'train_combined_bal_{imgs}_w6_lr_001'\n",
    "n = multiprocessing.cpu_count()\n",
    "s = f'python train_aux.py --weights {weight} --data {data} --epoch {epoch} --img-size {imgs} {imgs} --batch-size {bs} --device 0 --workers {n} --image-weights --name {name}'\n",
    "print(s)\n",
    "os.system(s)"
   ]
  },
  {
   "cell_type": "markdown",
   "metadata": {},
   "source": [
    "# Inference"
   ]
  },
  {
   "cell_type": "markdown",
   "metadata": {},
   "source": [
    "- The following code runs two inferences. One achieves the best reported score on test-1 and another on test-2.\n",
    "- Inference files (.txt) in the format asked by organiser will be saved in `runs/submissions` folder.\n"
   ]
  },
  {
   "cell_type": "code",
   "execution_count": null,
   "metadata": {},
   "outputs": [],
   "source": [
    "c_1280_best = 'runs/train/train_combined_40k_14k_1280_w6_lr_001/weights/best.pt'\n",
    "c_1280_e10 = 'runs/train/train_combined_40k_14k_1280_w6_lr_001/weights/epoch_010.pt'\n",
    "\n",
    "cb_1280_best = 'runs/train/train_combined_bal_1280_w6_lr_001/weights/best.pt'\n",
    "cb_1280_e10 = 'runs/train/train_combined_bal_1280_w6_lr_001/weights/epoch_010.pt'\n",
    "\n",
    "cb_1280_aug_best = 'runs/train/train_combined_bal_14k_aug_1280_w6_lr_001/weights/best.pt'\n",
    "cb_1280_aug_e10 = 'runs/train/train_combined_bal_14k_aug_1280_w6_lr_001/weights/epoch_010.pt'\n",
    "\n",
    "weight_list = [f'{c_1280_best} {cb_1280_best} {cb_1280_e10}', f'{c_1280_best} {cb_1280_aug_best} {cb_1280_aug_e10}']\n",
    "name_list = ['e_1280_c_best_cb_best_e10', 'e_1280_c_best_cb_aug_best_e10']\n",
    "e = [True] * 2\n",
    "test_sources = ['test_1', 'test_2']\n",
    "img_list = [1280] * 2\n",
    "conf = 0.01\n",
    "iou_list = [0.45]\n",
    "nosave_flag = True\n",
    "\n",
    "for iou in iou_list:\n",
    "    for wt, name, imgs, ensemble in zip(weight_list, name_list, img_list, e):\n",
    "        if name == 'e_1280_c_best_cb_best_e10':\n",
    "            test_sources = ['test_1']\n",
    "        else:\n",
    "            test_sources = ['test_2']\n",
    "\n",
    "        for test_src in test_sources:\n",
    "            print('----------')\n",
    "            name_detect = f'{name}_c{str(int(conf*100))}_i{str(int(iou*100))}_{test_src}'\n",
    "            source = f'../../mydataset/{test_src}/images'\n",
    "            no_trace = '--no-trace' if ensemble else ''\n",
    "            nosave = '--nosave' if nosave_flag else ''\n",
    "\n",
    "            print(name_detect)\n",
    "            \n",
    "            # performing inference\n",
    "            s_detect = f'python detect.py --weights {wt} --source {source} --img-size {imgs} --conf-thres {conf} --iou-thres {iou}  --device 0  {nosave} --augment --save-txt --save-conf --name {name_detect} {no_trace}'\n",
    "            print(s_detect)\n",
    "            os.system(s_detect)\n",
    "\n",
    "            # for saving the results to submission format\n",
    "            labelpath = f'runs/detect/{name_detect}/labels'\n",
    "            s_sub = f'python runs/convert_yolo_to_subformat.py --imagepath {test_src} --labelpath {labelpath}'\n",
    "            print(s_sub)\n",
    "            os.system(s_sub)"
   ]
  }
 ],
 "metadata": {
  "kernelspec": {
   "display_name": "Python 3.8.12 ('python3')",
   "language": "python",
   "name": "python3"
  },
  "language_info": {
   "codemirror_mode": {
    "name": "ipython",
    "version": 3
   },
   "file_extension": ".py",
   "mimetype": "text/x-python",
   "name": "python",
   "nbconvert_exporter": "python",
   "pygments_lexer": "ipython3",
   "version": "3.8.12"
  },
  "orig_nbformat": 4,
  "vscode": {
   "interpreter": {
    "hash": "6e6b819e3d6ce1b3469d64c9a73b8e3d0cb3f61adff56e1d9ccf4e24747b687e"
   }
  }
 },
 "nbformat": 4,
 "nbformat_minor": 2
}
